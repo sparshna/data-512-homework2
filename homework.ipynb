{
 "cells": [
  {
   "cell_type": "markdown",
   "metadata": {},
   "source": [
    "# Considering Bias in Data - Homework: 2"
   ]
  },
  {
   "cell_type": "markdown",
   "metadata": {},
   "source": [
    "## Data loading"
   ]
  },
  {
   "cell_type": "code",
   "execution_count": 3,
   "metadata": {},
   "outputs": [
    {
     "name": "stderr",
     "output_type": "stream",
     "text": [
      "/Users/sparshnagpal/Library/Python/3.9/lib/python/site-packages/urllib3/__init__.py:34: NotOpenSSLWarning: urllib3 v2 only supports OpenSSL 1.1.1+, currently the 'ssl' module is compiled with 'LibreSSL 2.8.3'. See: https://github.com/urllib3/urllib3/issues/3020\n",
      "  warnings.warn(\n"
     ]
    }
   ],
   "source": [
    "# Importing libraries\n",
    "\n",
    "import pandas as pd\n",
    "import requests\n",
    "import os\n",
    "from tqdm.notebook import tqdm  # for progress bars\n",
    "import json"
   ]
  },
  {
   "cell_type": "markdown",
   "metadata": {},
   "source": [
    "## Step 1: Getting the Article and Population Data"
   ]
  },
  {
   "cell_type": "markdown",
   "metadata": {},
   "source": [
    "### Population Data"
   ]
  },
  {
   "cell_type": "code",
   "execution_count": 9,
   "metadata": {},
   "outputs": [
    {
     "name": "stdout",
     "output_type": "stream",
     "text": [
      "                   name                                                url  \\\n",
      "0        Majah Ha Adrif       https://en.wikipedia.org/wiki/Majah_Ha_Adrif   \n",
      "1     Haroon al-Afghani    https://en.wikipedia.org/wiki/Haroon_al-Afghani   \n",
      "2           Tayyab Agha          https://en.wikipedia.org/wiki/Tayyab_Agha   \n",
      "3  Khadija Zahra Ahmadi  https://en.wikipedia.org/wiki/Khadija_Zahra_Ah...   \n",
      "4        Aziza Ahmadyar       https://en.wikipedia.org/wiki/Aziza_Ahmadyar   \n",
      "\n",
      "       country  \n",
      "0  Afghanistan  \n",
      "1  Afghanistan  \n",
      "2  Afghanistan  \n",
      "3  Afghanistan  \n",
      "4  Afghanistan  \n",
      "           country  population\n",
      "0            WORLD      8009.0\n",
      "1           AFRICA      1453.0\n",
      "2  NORTHERN AFRICA       256.0\n",
      "3          Algeria        46.8\n",
      "4            Egypt       105.2\n"
     ]
    }
   ],
   "source": [
    "# Load the politicians by country dataset\n",
    "politicians_df = pd.read_csv('politicians_by_country_AUG.2024.csv')\n",
    "\n",
    "# Load the population by country dataset\n",
    "population_df = pd.read_csv('population_by_country_AUG.2024.csv')\n",
    "\n",
    "# Rename columns for population dataset for consistency\n",
    "population_df = population_df.rename(columns={'Geography': 'country', 'Population': 'population'})\n",
    "\n",
    "# Preview the datasets\n",
    "print(politicians_df.head())\n",
    "print(population_df.head())\n"
   ]
  },
  {
   "cell_type": "code",
   "execution_count": 10,
   "metadata": {},
   "outputs": [
    {
     "name": "stdout",
     "output_type": "stream",
     "text": [
      "Region level data:\n",
      "            country  population\n",
      "0             WORLD      8009.0\n",
      "1            AFRICA      1453.0\n",
      "2   NORTHERN AFRICA       256.0\n",
      "10   WESTERN AFRICA       442.0\n",
      "27   EASTERN AFRICA       483.0\n",
      "Country level data:\n",
      "   country  population\n",
      "3  Algeria        46.8\n",
      "4    Egypt       105.2\n",
      "5    Libya         6.9\n",
      "6  Morocco        37.0\n",
      "7    Sudan        48.1\n"
     ]
    }
   ],
   "source": [
    "# Split population data into country and region-level data\n",
    "region_population_df = population_df[population_df['country'].str.isupper()]\n",
    "country_population_df = population_df[~population_df['country'].str.isupper()]\n",
    "\n",
    "# Preview region and country level data\n",
    "print(\"Region level data:\")\n",
    "print(region_population_df.head())\n",
    "print(\"Country level data:\")\n",
    "print(country_population_df.head())"
   ]
  },
  {
   "cell_type": "markdown",
   "metadata": {},
   "source": [
    "### Article Data"
   ]
  },
  {
   "cell_type": "code",
   "execution_count": 62,
   "metadata": {},
   "outputs": [
    {
     "name": "stdout",
     "output_type": "stream",
     "text": [
      "Missing revision IDs for 8 articles.\n"
     ]
    }
   ],
   "source": [
    "# Extract article title from the URL (last part of the URL after '/')\n",
    "politicians_df['article_title'] = politicians_df['url'].apply(lambda x: x.split('/')[-1])\n",
    "\n",
    "# Function to retrieve the curr ent revision ID for a given Wikipedia article\n",
    "def get_revision_id(article_title):\n",
    "    \"\"\"Retrieve the current revision ID for a given Wikipedia article.\"\"\"\n",
    "    url = f\"https://en.wikipedia.org/w/api.php?action=query&titles={article_title}&prop=revisions&rvprop=ids&format=json\"\n",
    "    response = requests.get(url)\n",
    "\n",
    "    if response.status_code == 200:\n",
    "        data = response.json()\n",
    "        page_id = next(iter(data['query']['pages'].keys()))\n",
    "        if page_id != \"-1\":  # -1 means page not found\n",
    "            revision_id = data['query']['pages'][page_id]['revisions'][0]['revid']\n",
    "            return revision_id\n",
    "    return None\n",
    "\n",
    "# Apply the get_revision_id function to each article title\n",
    "politicians_df['revision_id'] = politicians_df['article_title'].apply(get_revision_id)\n",
    "\n",
    "# Log missing revision IDs\n",
    "missing_revision_ids = politicians_df[politicians_df['revision_id'].isnull()]\n",
    "print(f\"Missing revision IDs for {len(missing_revision_ids)} articles.\")\n",
    "missing_revision_ids.to_csv('missing_revision_ids.csv', index=False)"
   ]
  },
  {
   "cell_type": "markdown",
   "metadata": {},
   "source": [
    "## Step 2: Getting Article Quality Predictions"
   ]
  },
  {
   "cell_type": "markdown",
   "metadata": {},
   "source": [
    "### ORES Data"
   ]
  },
  {
   "cell_type": "code",
   "execution_count": 64,
   "metadata": {},
   "outputs": [
    {
     "name": "stdout",
     "output_type": "stream",
     "text": [
      "Sample ORES quality score: FA\n"
     ]
    }
   ],
   "source": [
    "import requests\n",
    "import time\n",
    "import os\n",
    "\n",
    "# get token form .env file\n",
    "ACCESS_TOKEN = os.getenv(\"ACCESS_TOKEN\")\n",
    "\n",
    "# API endpoint for the ORES LiftWing model\n",
    "API_ORES_LIFTWING_ENDPOINT = \"https://api.wikimedia.org/service/lw/inference/v1/models/{model_name}:predict\"\n",
    "API_ORES_EN_QUALITY_MODEL = \"enwiki-articlequality\"\n",
    "#ACCESS_TOKEN = \"\"  # Replace this with your valid access token\n",
    "\n",
    "# Function to get ORES article quality score\n",
    "def get_ores_quality_score(rev_id, access_token):\n",
    "    # Set up the request header with authentication token\n",
    "    headers = {\n",
    "        'Authorization': f'Bearer {access_token}',\n",
    "        'User-Agent': \"<sparshna@uw.edu>, University of Washington, MSDS DATA 512 - AUTUMN 2024\"\n",
    "    }\n",
    "\n",
    "    # Prepare the API URL for the request\n",
    "    url = API_ORES_LIFTWING_ENDPOINT.format(model_name=API_ORES_EN_QUALITY_MODEL)\n",
    "\n",
    "    # Define the request payload with revision ID\n",
    "    payload = {\n",
    "        \"lang\": \"en\",\n",
    "        \"rev_id\": rev_id,\n",
    "        \"features\": True\n",
    "    }\n",
    "\n",
    "    try:\n",
    "        # Make the API request\n",
    "        response = requests.post(url, headers=headers, json=payload)\n",
    "        response.raise_for_status()  # Check for HTTP errors\n",
    "\n",
    "        # Parse the response JSON to get the quality prediction\n",
    "        data = response.json()\n",
    "        #print(data)\n",
    "        prediction = data['enwiki']['scores'][str(rev_id)]['articlequality']['score']['prediction']\n",
    "        \n",
    "        return prediction\n",
    "\n",
    "    except requests.exceptions.RequestException as e:\n",
    "        print(f\"Error fetching ORES quality score for rev_id {rev_id}: {e}\")\n",
    "        return None\n",
    "\n",
    "# Example: Test the function with one revision ID (rev_id is a sample)\n",
    "sample_rev_id = 1085687913\n",
    "quality_score = get_ores_quality_score(sample_rev_id, ACCESS_TOKEN)\n",
    "print(f\"Sample ORES quality score: {quality_score}\")\n"
   ]
  },
  {
   "cell_type": "code",
   "execution_count": 67,
   "metadata": {},
   "outputs": [
    {
     "name": "stderr",
     "output_type": "stream",
     "text": [
      "Processing articles:   0%|          | 0/7155 [00:00<?, ?it/s]"
     ]
    },
    {
     "name": "stderr",
     "output_type": "stream",
     "text": [
      "Processing articles:   6%|▌         | 430/7155 [04:24<1:13:54,  1.52it/s]"
     ]
    },
    {
     "name": "stdout",
     "output_type": "stream",
     "text": [
      "Error processing row 430: cannot convert float NaN to integer\n"
     ]
    },
    {
     "name": "stderr",
     "output_type": "stream",
     "text": [
      "Processing articles:   7%|▋         | 516/7155 [05:13<1:07:46,  1.63it/s]"
     ]
    },
    {
     "name": "stdout",
     "output_type": "stream",
     "text": [
      "Error processing row 516: cannot convert float NaN to integer\n"
     ]
    },
    {
     "name": "stderr",
     "output_type": "stream",
     "text": [
      "Processing articles:  17%|█▋        | 1200/7155 [12:54<59:59,  1.65it/s]  "
     ]
    },
    {
     "name": "stdout",
     "output_type": "stream",
     "text": [
      "Error processing row 1200: cannot convert float NaN to integer\n"
     ]
    },
    {
     "name": "stderr",
     "output_type": "stream",
     "text": [
      "Processing articles:  19%|█▉        | 1342/7155 [14:21<47:04,  2.06it/s]  "
     ]
    },
    {
     "name": "stdout",
     "output_type": "stream",
     "text": [
      "Error processing row 1342: cannot convert float NaN to integer\n"
     ]
    },
    {
     "name": "stderr",
     "output_type": "stream",
     "text": [
      "Processing articles:  27%|██▋       | 1955/7155 [20:45<55:26,  1.56it/s]  "
     ]
    },
    {
     "name": "stdout",
     "output_type": "stream",
     "text": [
      "Error processing row 1955: cannot convert float NaN to integer\n"
     ]
    },
    {
     "name": "stderr",
     "output_type": "stream",
     "text": [
      "Processing articles:  28%|██▊       | 1994/7155 [21:09<46:24,  1.85it/s]  "
     ]
    },
    {
     "name": "stdout",
     "output_type": "stream",
     "text": [
      "Error fetching ORES quality score for rev_id 1244463510: 502 Server Error: Bad Gateway for url: https://api.wikimedia.org/service/lw/inference/v1/models/enwiki-articlequality:predict\n",
      "Error processing row 1993: name 'e' is not defined\n"
     ]
    },
    {
     "name": "stderr",
     "output_type": "stream",
     "text": [
      "Processing articles:  34%|███▍      | 2427/7155 [25:24<50:07,  1.57it/s]  "
     ]
    },
    {
     "name": "stdout",
     "output_type": "stream",
     "text": [
      "Error processing row 2427: cannot convert float NaN to integer\n"
     ]
    },
    {
     "name": "stderr",
     "output_type": "stream",
     "text": [
      "Processing articles:  63%|██████▎   | 4496/7155 [46:01<30:51,  1.44it/s]  "
     ]
    },
    {
     "name": "stdout",
     "output_type": "stream",
     "text": [
      "Error processing row 4496: cannot convert float NaN to integer\n"
     ]
    },
    {
     "name": "stderr",
     "output_type": "stream",
     "text": [
      "Processing articles:  80%|███████▉  | 5719/7155 [57:30<10:43,  2.23it/s]"
     ]
    },
    {
     "name": "stdout",
     "output_type": "stream",
     "text": [
      "Error processing row 5719: cannot convert float NaN to integer\n"
     ]
    },
    {
     "name": "stderr",
     "output_type": "stream",
     "text": [
      "Processing articles:  81%|████████  | 5810/7155 [58:14<11:19,  1.98it/s]"
     ]
    },
    {
     "name": "stdout",
     "output_type": "stream",
     "text": [
      "Error fetching ORES quality score for rev_id 1244353459: 503 Server Error: Service Unavailable for url: https://api.wikimedia.org/service/lw/inference/v1/models/enwiki-articlequality:predict\n",
      "Error processing row 5809: name 'e' is not defined\n"
     ]
    },
    {
     "name": "stderr",
     "output_type": "stream",
     "text": [
      "Processing articles: 100%|██████████| 7155/7155 [1:11:56<00:00,  1.66it/s]\n"
     ]
    }
   ],
   "source": [
    "from tqdm import tqdm\n",
    "\n",
    "# Define the assumed API throttle wait time (5000 requests per hour)\n",
    "API_LATENCY_ASSUMED = 0.002  # Assume roughly 2ms latency\n",
    "API_THROTTLE_WAIT = ((60.0 * 10.0) / 5000.0) - API_LATENCY_ASSUMED\n",
    "\n",
    "# Function with throttling\n",
    "def get_ores_quality_score_throttled(rev_id, access_token):\n",
    "    # Get the score\n",
    "    score = get_ores_quality_score(rev_id, access_token)\n",
    "    \n",
    "    # Throttle to avoid exceeding request limits\n",
    "    time.sleep(API_THROTTLE_WAIT)\n",
    "    \n",
    "    return score\n",
    "\n",
    "# Ensure the 'revision_id' column exists and apply the ORES function to fetch the quality score\n",
    "politicians_df['article_quality'] = None\n",
    "#for index, row in politicians_df.iterrows():\n",
    "for index, row in tqdm(politicians_df.iterrows(), total=politicians_df.shape[0], desc=\"Processing articles\"):\n",
    "    try:\n",
    "        rev_id = row['revision_id']\n",
    "        if rev_id:\n",
    "            politicians_df.at[index, 'article_quality'] = get_ores_quality_score_throttled(int(rev_id), ACCESS_TOKEN)\n",
    "            if politicians_df.at[index, 'article_quality'] == None:\n",
    "                print(f\"Error processing row {index}: {e}\")\n",
    "    except Exception as e:\n",
    "        print(f\"Error processing row {index}: {e}\")"
   ]
  },
  {
   "cell_type": "markdown",
   "metadata": {},
   "source": [
    "### Error rate"
   ]
  },
  {
   "cell_type": "code",
   "execution_count": 112,
   "metadata": {},
   "outputs": [
    {
     "name": "stdout",
     "output_type": "stream",
     "text": [
      "Error rate: 0.14%\n"
     ]
    }
   ],
   "source": [
    "# Print error rate\n",
    "error_rate = politicians_df['article_quality'].isnull().mean()\n",
    "\n",
    "print(f\"Error rate: {error_rate:.2%}\")"
   ]
  },
  {
   "cell_type": "markdown",
   "metadata": {},
   "source": [
    "### Testing data"
   ]
  },
  {
   "cell_type": "code",
   "execution_count": 84,
   "metadata": {},
   "outputs": [
    {
     "name": "stdout",
     "output_type": "stream",
     "text": [
      "Sample ORES quality score: C\n"
     ]
    }
   ],
   "source": [
    "# Example: Test the function with one revision ID (rev_id is a sample)\n",
    "sample_rev_id = 1244353459\n",
    "quality_score = get_ores_quality_score(sample_rev_id, ACCESS_TOKEN)\n",
    "print(f\"Sample ORES quality score: {quality_score}\")"
   ]
  },
  {
   "cell_type": "code",
   "execution_count": 69,
   "metadata": {},
   "outputs": [
    {
     "data": {
      "text/html": [
       "<div>\n",
       "<style scoped>\n",
       "    .dataframe tbody tr th:only-of-type {\n",
       "        vertical-align: middle;\n",
       "    }\n",
       "\n",
       "    .dataframe tbody tr th {\n",
       "        vertical-align: top;\n",
       "    }\n",
       "\n",
       "    .dataframe thead th {\n",
       "        text-align: right;\n",
       "    }\n",
       "</style>\n",
       "<table border=\"1\" class=\"dataframe\">\n",
       "  <thead>\n",
       "    <tr style=\"text-align: right;\">\n",
       "      <th></th>\n",
       "      <th>name</th>\n",
       "      <th>url</th>\n",
       "      <th>country</th>\n",
       "      <th>article_title</th>\n",
       "      <th>revision_id</th>\n",
       "      <th>article_quality</th>\n",
       "    </tr>\n",
       "  </thead>\n",
       "  <tbody>\n",
       "    <tr>\n",
       "      <th>0</th>\n",
       "      <td>Majah Ha Adrif</td>\n",
       "      <td>https://en.wikipedia.org/wiki/Majah_Ha_Adrif</td>\n",
       "      <td>Afghanistan</td>\n",
       "      <td>Majah_Ha_Adrif</td>\n",
       "      <td>1.233203e+09</td>\n",
       "      <td>Start</td>\n",
       "    </tr>\n",
       "    <tr>\n",
       "      <th>1</th>\n",
       "      <td>Haroon al-Afghani</td>\n",
       "      <td>https://en.wikipedia.org/wiki/Haroon_al-Afghani</td>\n",
       "      <td>Afghanistan</td>\n",
       "      <td>Haroon_al-Afghani</td>\n",
       "      <td>1.230460e+09</td>\n",
       "      <td>B</td>\n",
       "    </tr>\n",
       "    <tr>\n",
       "      <th>2</th>\n",
       "      <td>Tayyab Agha</td>\n",
       "      <td>https://en.wikipedia.org/wiki/Tayyab_Agha</td>\n",
       "      <td>Afghanistan</td>\n",
       "      <td>Tayyab_Agha</td>\n",
       "      <td>1.225662e+09</td>\n",
       "      <td>Start</td>\n",
       "    </tr>\n",
       "    <tr>\n",
       "      <th>3</th>\n",
       "      <td>Khadija Zahra Ahmadi</td>\n",
       "      <td>https://en.wikipedia.org/wiki/Khadija_Zahra_Ah...</td>\n",
       "      <td>Afghanistan</td>\n",
       "      <td>Khadija_Zahra_Ahmadi</td>\n",
       "      <td>1.234742e+09</td>\n",
       "      <td>Stub</td>\n",
       "    </tr>\n",
       "    <tr>\n",
       "      <th>4</th>\n",
       "      <td>Aziza Ahmadyar</td>\n",
       "      <td>https://en.wikipedia.org/wiki/Aziza_Ahmadyar</td>\n",
       "      <td>Afghanistan</td>\n",
       "      <td>Aziza_Ahmadyar</td>\n",
       "      <td>1.195651e+09</td>\n",
       "      <td>Start</td>\n",
       "    </tr>\n",
       "  </tbody>\n",
       "</table>\n",
       "</div>"
      ],
      "text/plain": [
       "                   name                                                url  \\\n",
       "0        Majah Ha Adrif       https://en.wikipedia.org/wiki/Majah_Ha_Adrif   \n",
       "1     Haroon al-Afghani    https://en.wikipedia.org/wiki/Haroon_al-Afghani   \n",
       "2           Tayyab Agha          https://en.wikipedia.org/wiki/Tayyab_Agha   \n",
       "3  Khadija Zahra Ahmadi  https://en.wikipedia.org/wiki/Khadija_Zahra_Ah...   \n",
       "4        Aziza Ahmadyar       https://en.wikipedia.org/wiki/Aziza_Ahmadyar   \n",
       "\n",
       "       country         article_title   revision_id article_quality  \n",
       "0  Afghanistan        Majah_Ha_Adrif  1.233203e+09           Start  \n",
       "1  Afghanistan     Haroon_al-Afghani  1.230460e+09               B  \n",
       "2  Afghanistan           Tayyab_Agha  1.225662e+09           Start  \n",
       "3  Afghanistan  Khadija_Zahra_Ahmadi  1.234742e+09            Stub  \n",
       "4  Afghanistan        Aziza_Ahmadyar  1.195651e+09           Start  "
      ]
     },
     "execution_count": 69,
     "metadata": {},
     "output_type": "execute_result"
    }
   ],
   "source": [
    "politicians_df.head()"
   ]
  },
  {
   "cell_type": "code",
   "execution_count": 70,
   "metadata": {},
   "outputs": [],
   "source": [
    "# Save the updated dataset with article quality scores\n",
    "politicians_df.to_csv('wiki_data_ores.csv', index=False)"
   ]
  },
  {
   "cell_type": "markdown",
   "metadata": {},
   "source": [
    "## Step 3: Combining the Datasets"
   ]
  },
  {
   "cell_type": "markdown",
   "metadata": {},
   "source": [
    "### wp_countries-no_match.txt\n"
   ]
  },
  {
   "cell_type": "code",
   "execution_count": 72,
   "metadata": {},
   "outputs": [],
   "source": [
    "# Merge datasets on the country field\n",
    "merged_df = pd.merge(politicians_df, population_df, how='left', left_on='country', right_on='country')\n",
    "\n",
    "# Identify and log countries that could not be merged\n",
    "no_match_countries = merged_df[merged_df['population'].isnull()]['country'].unique()\n",
    "with open('wp_countries-no_match.txt', 'w') as f:\n",
    "    for country in no_match_countries:\n",
    "        f.write(f\"{country}\\n\")"
   ]
  },
  {
   "cell_type": "markdown",
   "metadata": {},
   "source": [
    "### wp_politicians_by_country.csv"
   ]
  },
  {
   "cell_type": "code",
   "execution_count": 194,
   "metadata": {},
   "outputs": [
    {
     "name": "stdout",
     "output_type": "stream",
     "text": [
      "{'WORLD': [], 'AFRICA': [], 'NORTHERN AFRICA': ['Algeria', 'Egypt', 'Libya', 'Morocco', 'Sudan', 'Tunisia', 'Western Sahara'], 'WESTERN AFRICA': ['Benin', 'Burkina Faso', 'Cape Verde', \"Cote d'Ivoire\", 'Gambia', 'Ghana', 'Guinea', 'GuineaBissau', 'Liberia', 'Mali', 'Mauritania', 'Niger', 'Nigeria', 'Senegal', 'Sierra Leone', 'Togo'], 'EASTERN AFRICA': ['Burundi', 'Comoros', 'Djibouti', 'Eritrea', 'Ethiopia', 'Kenya', 'Madagascar', 'Malawi', 'Mauritius', 'Mayotte', 'Mozambique', 'Reunion', 'Rwanda', 'Seychelles', 'Somalia', 'South Sudan', 'Tanzania', 'Uganda', 'Zambia', 'Zimbabwe'], 'MIDDLE AFRICA': ['Angola', 'Cameroon', 'Central African Republic', 'Chad', 'Congo', 'Congo DR', 'Equatorial Guinea', 'Gabon', 'Sao Tome and Principe'], 'SOUTHERN AFRICA': ['Botswana', 'eSwatini', 'Lesotho', 'Namibia', 'South Africa'], 'NORTHERN AMERICA': ['Canada', 'United States'], 'LATIN AMERICA AND THE CARIBBEAN': [], 'CENTRAL AMERICA': ['Belize', 'Costa Rica', 'El Salvador', 'Guatemala', 'Honduras', 'Mexico', 'Nicaragua', 'Panama'], 'CARIBBEAN': ['Antigua and Barbuda', 'Bahamas', 'Barbados', 'Cuba', 'Curacao', 'Dominica', 'Dominican Republic', 'Grenada', 'Guadeloupe', 'Haiti', 'Jamaica', 'Martinique', 'Puerto Rico', 'St. Kitts and Nevis', 'St. Lucia', 'St. Vincent and the Grenadines', 'Trinidad and Tobago'], 'SOUTH AMERICA': ['Argentina', 'Bolivia', 'Brazil', 'Chile', 'Colombia', 'Ecuador', 'French Guiana', 'Guyana', 'Paraguay', 'Peru', 'Suriname', 'Uruguay', 'Venezuela'], 'ASIA': [], 'WESTERN ASIA': ['Armenia', 'Azerbaijan', 'Bahrain', 'Cyprus', 'Georgia', 'Iraq', 'Israel', 'Jordan', 'Kuwait', 'Lebanon', 'Oman', 'Palestinian Territory', 'Qatar', 'Saudi Arabia', 'Syria', 'Turkey', 'United Arab Emirates', 'Yemen'], 'CENTRAL ASIA': ['Kazakhstan', 'Kyrgyzstan', 'Tajikistan', 'Turkmenistan', 'Uzbekistan'], 'SOUTH ASIA': ['Afghanistan', 'Bangladesh', 'Bhutan', 'India', 'Iran', 'Maldives', 'Nepal', 'Pakistan', 'Sri Lanka'], 'SOUTHEAST ASIA': ['Brunei', 'Cambodia', 'Indonesia', 'Laos', 'Malaysia', 'Myanmar', 'Philippines', 'Singapore', 'Thailand', 'Timor Leste', 'Vietnam'], 'EAST ASIA': ['China', 'China (Hong Kong SAR)', 'China (Macao SAR)', 'Japan', 'Korea (North)', 'Korea (South)', 'Mongolia', 'Taiwan'], 'EUROPE': [], 'NORTHERN EUROPE': ['Denmark', 'Estonia', 'Finland', 'Iceland', 'Ireland', 'Latvia', 'Lithuania', 'Norway', 'Sweden', 'United Kingdom'], 'WESTERN EUROPE': ['Austria', 'Belgium', 'France', 'Germany', 'Liechtenstein', 'Luxembourg', 'Monaco', 'Netherlands', 'Switzerland'], 'EASTERN EUROPE': ['Belarus', 'Bulgaria', 'Czechia', 'Hungary', 'Moldova', 'Poland', 'Romania', 'Russia', 'Slovakia', 'Ukraine'], 'SOUTHERN EUROPE': ['Albania', 'Andorra', 'Bosnia Herzegovina', 'Croatia', 'Greece', 'Italy', 'Kosovo', 'Malta', 'Montenegro', 'North Macedonia', 'Portugal', 'San Marino', 'Serbia', 'Slovenia', 'Spain'], 'OCEANIA': ['Australia', 'Federated States of Micronesia', 'Fiji', 'French Polynesia', 'Guam', 'Kiribati', 'Marshall Islands', 'Nauru', 'New Caledonia', 'New Zealand', 'Palau', 'Papua New Guinea', 'Samoa', 'Solomon Islands', 'Tonga', 'Tuvalu', 'Vanuatu']}\n"
     ]
    }
   ],
   "source": [
    "def assign_regions(country_region_list):\n",
    "    # Dictionary to store regions and their corresponding countries\n",
    "    region_dict = {}\n",
    "    \n",
    "    # Variable to store the most recent uppercase region\n",
    "    current_region = None\n",
    "    \n",
    "    # Loop through the words in the list\n",
    "    for place in country_region_list:\n",
    "        # Check if the word is all uppercase (indicating it's a region)\n",
    "        if place.isupper():\n",
    "            current_region = place  # Update the current region\n",
    "            if current_region not in region_dict:\n",
    "                region_dict[current_region] = []  # Initialize the list for the region\n",
    "        else:\n",
    "            if current_region:\n",
    "                region_dict[current_region].append(place)  # Add the country to the region's list\n",
    "    \n",
    "    return region_dict\n",
    "\n",
    "country_region_list = list(population_df['country'])\n",
    "\n",
    "# Call the function and print the result\n",
    "region_country_mapping = assign_regions(country_region_list)\n",
    "print(region_country_mapping)"
   ]
  },
  {
   "cell_type": "code",
   "execution_count": 195,
   "metadata": {},
   "outputs": [],
   "source": [
    "# Add region information to merged_df\n",
    "merged_df['region'] = None\n",
    "for region, countries in region_country_mapping.items():\n",
    "    merged_df.loc[merged_df['country'].isin(countries), 'region'] = region"
   ]
  },
  {
   "cell_type": "code",
   "execution_count": 196,
   "metadata": {},
   "outputs": [
    {
     "name": "stdout",
     "output_type": "stream",
     "text": [
      "Merged dataset saved as 'wp_politicians_by_country.csv' with required columns.\n"
     ]
    },
    {
     "data": {
      "text/html": [
       "<div>\n",
       "<style scoped>\n",
       "    .dataframe tbody tr th:only-of-type {\n",
       "        vertical-align: middle;\n",
       "    }\n",
       "\n",
       "    .dataframe tbody tr th {\n",
       "        vertical-align: top;\n",
       "    }\n",
       "\n",
       "    .dataframe thead th {\n",
       "        text-align: right;\n",
       "    }\n",
       "</style>\n",
       "<table border=\"1\" class=\"dataframe\">\n",
       "  <thead>\n",
       "    <tr style=\"text-align: right;\">\n",
       "      <th></th>\n",
       "      <th>name</th>\n",
       "      <th>url</th>\n",
       "      <th>country</th>\n",
       "      <th>article_title</th>\n",
       "      <th>revision_id</th>\n",
       "      <th>article_quality</th>\n",
       "      <th>population</th>\n",
       "      <th>region</th>\n",
       "    </tr>\n",
       "  </thead>\n",
       "  <tbody>\n",
       "    <tr>\n",
       "      <th>0</th>\n",
       "      <td>Majah Ha Adrif</td>\n",
       "      <td>https://en.wikipedia.org/wiki/Majah_Ha_Adrif</td>\n",
       "      <td>Afghanistan</td>\n",
       "      <td>Majah_Ha_Adrif</td>\n",
       "      <td>1.233203e+09</td>\n",
       "      <td>Start</td>\n",
       "      <td>42.4</td>\n",
       "      <td>SOUTH ASIA</td>\n",
       "    </tr>\n",
       "    <tr>\n",
       "      <th>1</th>\n",
       "      <td>Haroon al-Afghani</td>\n",
       "      <td>https://en.wikipedia.org/wiki/Haroon_al-Afghani</td>\n",
       "      <td>Afghanistan</td>\n",
       "      <td>Haroon_al-Afghani</td>\n",
       "      <td>1.230460e+09</td>\n",
       "      <td>B</td>\n",
       "      <td>42.4</td>\n",
       "      <td>SOUTH ASIA</td>\n",
       "    </tr>\n",
       "    <tr>\n",
       "      <th>2</th>\n",
       "      <td>Tayyab Agha</td>\n",
       "      <td>https://en.wikipedia.org/wiki/Tayyab_Agha</td>\n",
       "      <td>Afghanistan</td>\n",
       "      <td>Tayyab_Agha</td>\n",
       "      <td>1.225662e+09</td>\n",
       "      <td>Start</td>\n",
       "      <td>42.4</td>\n",
       "      <td>SOUTH ASIA</td>\n",
       "    </tr>\n",
       "    <tr>\n",
       "      <th>3</th>\n",
       "      <td>Khadija Zahra Ahmadi</td>\n",
       "      <td>https://en.wikipedia.org/wiki/Khadija_Zahra_Ah...</td>\n",
       "      <td>Afghanistan</td>\n",
       "      <td>Khadija_Zahra_Ahmadi</td>\n",
       "      <td>1.234742e+09</td>\n",
       "      <td>Stub</td>\n",
       "      <td>42.4</td>\n",
       "      <td>SOUTH ASIA</td>\n",
       "    </tr>\n",
       "    <tr>\n",
       "      <th>4</th>\n",
       "      <td>Aziza Ahmadyar</td>\n",
       "      <td>https://en.wikipedia.org/wiki/Aziza_Ahmadyar</td>\n",
       "      <td>Afghanistan</td>\n",
       "      <td>Aziza_Ahmadyar</td>\n",
       "      <td>1.195651e+09</td>\n",
       "      <td>Start</td>\n",
       "      <td>42.4</td>\n",
       "      <td>SOUTH ASIA</td>\n",
       "    </tr>\n",
       "  </tbody>\n",
       "</table>\n",
       "</div>"
      ],
      "text/plain": [
       "                   name                                                url  \\\n",
       "0        Majah Ha Adrif       https://en.wikipedia.org/wiki/Majah_Ha_Adrif   \n",
       "1     Haroon al-Afghani    https://en.wikipedia.org/wiki/Haroon_al-Afghani   \n",
       "2           Tayyab Agha          https://en.wikipedia.org/wiki/Tayyab_Agha   \n",
       "3  Khadija Zahra Ahmadi  https://en.wikipedia.org/wiki/Khadija_Zahra_Ah...   \n",
       "4        Aziza Ahmadyar       https://en.wikipedia.org/wiki/Aziza_Ahmadyar   \n",
       "\n",
       "       country         article_title   revision_id article_quality  \\\n",
       "0  Afghanistan        Majah_Ha_Adrif  1.233203e+09           Start   \n",
       "1  Afghanistan     Haroon_al-Afghani  1.230460e+09               B   \n",
       "2  Afghanistan           Tayyab_Agha  1.225662e+09           Start   \n",
       "3  Afghanistan  Khadija_Zahra_Ahmadi  1.234742e+09            Stub   \n",
       "4  Afghanistan        Aziza_Ahmadyar  1.195651e+09           Start   \n",
       "\n",
       "   population      region  \n",
       "0        42.4  SOUTH ASIA  \n",
       "1        42.4  SOUTH ASIA  \n",
       "2        42.4  SOUTH ASIA  \n",
       "3        42.4  SOUTH ASIA  \n",
       "4        42.4  SOUTH ASIA  "
      ]
     },
     "execution_count": 196,
     "metadata": {},
     "output_type": "execute_result"
    }
   ],
   "source": [
    "# Ensure the column names match the required output\n",
    "merged_df2 = merged_df.rename(columns={'article_title': 'article_title', 'Population': 'population'})\n",
    "\n",
    "# Select the relevant columns and save to a new CSV file\n",
    "merged_df2[['country', 'region', 'population', 'article_title', 'revision_id', 'article_quality']].to_csv('wp_politicians_by_country.csv', index=False)\n",
    "\n",
    "print(\"Merged dataset saved as 'wp_politicians_by_country.csv' with required columns.\")\n",
    "\n",
    "merged_df2.head()"
   ]
  },
  {
   "cell_type": "code",
   "execution_count": 6,
   "metadata": {},
   "outputs": [],
   "source": [
    "# load wp_politicians_by_country.csv in dataframe merged_df\n",
    "merged_df2 = pd.read_csv('wp_politicians_by_country.csv')"
   ]
  },
  {
   "cell_type": "markdown",
   "metadata": {},
   "source": [
    "## Step 4: Analysis"
   ]
  },
  {
   "cell_type": "markdown",
   "metadata": {},
   "source": [
    "### Total articles per capita"
   ]
  },
  {
   "cell_type": "markdown",
   "metadata": {},
   "source": [
    "#### Total-articles-per-capita for countries"
   ]
  },
  {
   "cell_type": "code",
   "execution_count": 11,
   "metadata": {},
   "outputs": [
    {
     "name": "stdout",
     "output_type": "stream",
     "text": [
      "Marshall Islands 13 0.1\n"
     ]
    },
    {
     "name": "stderr",
     "output_type": "stream",
     "text": [
      "/var/folders/ct/1wsyj7md3xs74zw6kb_99n8h0000gn/T/ipykernel_78518/495730876.py:14: RuntimeWarning: divide by zero encountered in scalar divide\n",
      "  articles_per_country_per_capita[country] = article_count / population\n"
     ]
    },
    {
     "data": {
      "text/html": [
       "<div>\n",
       "<style scoped>\n",
       "    .dataframe tbody tr th:only-of-type {\n",
       "        vertical-align: middle;\n",
       "    }\n",
       "\n",
       "    .dataframe tbody tr th {\n",
       "        vertical-align: top;\n",
       "    }\n",
       "\n",
       "    .dataframe thead th {\n",
       "        text-align: right;\n",
       "    }\n",
       "</style>\n",
       "<table border=\"1\" class=\"dataframe\">\n",
       "  <thead>\n",
       "    <tr style=\"text-align: right;\">\n",
       "      <th></th>\n",
       "      <th>country</th>\n",
       "      <th>Articles Per Capita Per Million Population</th>\n",
       "    </tr>\n",
       "  </thead>\n",
       "  <tbody>\n",
       "    <tr>\n",
       "      <th>82</th>\n",
       "      <td>Antigua and Barbuda</td>\n",
       "      <td>330.000000</td>\n",
       "    </tr>\n",
       "    <tr>\n",
       "      <th>129</th>\n",
       "      <td>Federated States of Micronesia</td>\n",
       "      <td>140.000000</td>\n",
       "    </tr>\n",
       "    <tr>\n",
       "      <th>131</th>\n",
       "      <td>Marshall Islands</td>\n",
       "      <td>130.000000</td>\n",
       "    </tr>\n",
       "    <tr>\n",
       "      <th>138</th>\n",
       "      <td>Tonga</td>\n",
       "      <td>100.000000</td>\n",
       "    </tr>\n",
       "    <tr>\n",
       "      <th>101</th>\n",
       "      <td>Barbados</td>\n",
       "      <td>83.333333</td>\n",
       "    </tr>\n",
       "  </tbody>\n",
       "</table>\n",
       "</div>"
      ],
      "text/plain": [
       "                            country  \\\n",
       "82              Antigua and Barbuda   \n",
       "129  Federated States of Micronesia   \n",
       "131                Marshall Islands   \n",
       "138                           Tonga   \n",
       "101                        Barbados   \n",
       "\n",
       "     Articles Per Capita Per Million Population  \n",
       "82                                   330.000000  \n",
       "129                                  140.000000  \n",
       "131                                  130.000000  \n",
       "138                                  100.000000  \n",
       "101                                   83.333333  "
      ]
     },
     "execution_count": 11,
     "metadata": {},
     "output_type": "execute_result"
    }
   ],
   "source": [
    "# total-articles-per-capita for countries\n",
    "\n",
    "articles_per_country = merged_df2['country'].value_counts().to_dict()\n",
    "\n",
    "#print(articles_per_country)\n",
    "\n",
    "# map articles_per_country keys to population data in merged_df2 \n",
    "\n",
    "articles_per_country_per_capita = {}\n",
    "for country, article_count in articles_per_country.items():\n",
    "    population = merged_df2[merged_df2['country'] == country]['population'].values[0]\n",
    "    if country == 'Marshall Islands':\n",
    "        print(country, article_count, population)\n",
    "    articles_per_country_per_capita[country] = article_count / population\n",
    "\n",
    "#print(articles_per_country_per_capita)\n",
    "\n",
    "\n",
    "# Make articles_per_region_per_capita a datafrae\n",
    "articles_per_country_per_capita_df = pd.DataFrame(articles_per_country_per_capita.items(), columns=['country', 'Articles Per Capita Per Million Population'])\n",
    "articles_per_country_per_capita_df.head()\n",
    "\n",
    "# sort by Articles Per Capita Per Million Population and eliminate inf values\n",
    "articles_per_country_per_capita_df = articles_per_country_per_capita_df.replace([float('inf'), float('-inf')], 0)\n",
    "articles_per_country_per_capita_df = articles_per_country_per_capita_df.sort_values(by='Articles Per Capita Per Million Population', ascending=False)\n",
    "articles_per_country_per_capita_df.head()\n",
    "\n",
    "# note: Tuvalu and Monaco have the highest number of articles per capita per million population \n",
    "# but they have very small populations (0.0 million here) \n",
    "# and Article Per Capita Per Million Population is not a good metric for them"
   ]
  },
  {
   "cell_type": "markdown",
   "metadata": {},
   "source": [
    "#### Total-articles-per-capita for region"
   ]
  },
  {
   "cell_type": "code",
   "execution_count": 12,
   "metadata": {},
   "outputs": [
    {
     "name": "stdout",
     "output_type": "stream",
     "text": [
      "{'SOUTHERN EUROPE': 797, 'EASTERN EUROPE': 709, 'SOUTH ASIA': 670, 'EASTERN AFRICA': 665, 'WESTERN ASIA': 610, 'SOUTH AMERICA': 569, 'WESTERN AFRICA': 515, 'WESTERN EUROPE': 498, 'SOUTHEAST ASIA': 396, 'NORTHERN AFRICA': 302, 'MIDDLE AFRICA': 231, 'CARIBBEAN': 219, 'NORTHERN EUROPE': 191, 'CENTRAL AMERICA': 188, 'EAST ASIA': 152, 'SOUTHERN AFRICA': 123, 'CENTRAL ASIA': 106, 'OCEANIA': 72}\n"
     ]
    },
    {
     "data": {
      "text/html": [
       "<div>\n",
       "<style scoped>\n",
       "    .dataframe tbody tr th:only-of-type {\n",
       "        vertical-align: middle;\n",
       "    }\n",
       "\n",
       "    .dataframe tbody tr th {\n",
       "        vertical-align: top;\n",
       "    }\n",
       "\n",
       "    .dataframe thead th {\n",
       "        text-align: right;\n",
       "    }\n",
       "</style>\n",
       "<table border=\"1\" class=\"dataframe\">\n",
       "  <thead>\n",
       "    <tr style=\"text-align: right;\">\n",
       "      <th></th>\n",
       "      <th>region</th>\n",
       "      <th>Articles Per Capita Per Million Population</th>\n",
       "    </tr>\n",
       "  </thead>\n",
       "  <tbody>\n",
       "    <tr>\n",
       "      <th>0</th>\n",
       "      <td>SOUTHERN EUROPE</td>\n",
       "      <td>5.243421</td>\n",
       "    </tr>\n",
       "    <tr>\n",
       "      <th>11</th>\n",
       "      <td>CARIBBEAN</td>\n",
       "      <td>4.977273</td>\n",
       "    </tr>\n",
       "    <tr>\n",
       "      <th>7</th>\n",
       "      <td>WESTERN EUROPE</td>\n",
       "      <td>2.502513</td>\n",
       "    </tr>\n",
       "    <tr>\n",
       "      <th>1</th>\n",
       "      <td>EASTERN EUROPE</td>\n",
       "      <td>2.487719</td>\n",
       "    </tr>\n",
       "    <tr>\n",
       "      <th>4</th>\n",
       "      <td>WESTERN ASIA</td>\n",
       "      <td>2.040134</td>\n",
       "    </tr>\n",
       "  </tbody>\n",
       "</table>\n",
       "</div>"
      ],
      "text/plain": [
       "             region  Articles Per Capita Per Million Population\n",
       "0   SOUTHERN EUROPE                                    5.243421\n",
       "11        CARIBBEAN                                    4.977273\n",
       "7    WESTERN EUROPE                                    2.502513\n",
       "1    EASTERN EUROPE                                    2.487719\n",
       "4      WESTERN ASIA                                    2.040134"
      ]
     },
     "execution_count": 12,
     "metadata": {},
     "output_type": "execute_result"
    }
   ],
   "source": [
    "# total-articles-per-capita for region\n",
    "\n",
    "articles_per_region = merged_df2['region'].value_counts().to_dict()\n",
    "\n",
    "print(articles_per_region)\n",
    "\n",
    "# map articles_per_region keys to population data in merged_df2 \n",
    "\n",
    "articles_per_region_per_capita = {}\n",
    "for region, article_count in articles_per_region.items():\n",
    "    #population = merged_df2[merged_df2['region'] == region]['population'].values[0]\n",
    "    # map region name to population_df\n",
    "    population = region_population_df[region_population_df['country'] == region]['population'].values[0]\n",
    "    articles_per_region_per_capita[region] = article_count / population\n",
    "\n",
    "# Make articles_per_region_per_capita a datafrae\n",
    "articles_per_region_per_capita_df = pd.DataFrame(articles_per_region_per_capita.items(), columns=['region', 'Articles Per Capita Per Million Population'])\n",
    "articles_per_region_per_capita_df.sort_values(by='Articles Per Capita Per Million Population', ascending=False).head()\n"
   ]
  },
  {
   "cell_type": "markdown",
   "metadata": {},
   "source": [
    "#### Total-high-quality-articles-per-capita for countries"
   ]
  },
  {
   "cell_type": "code",
   "execution_count": 13,
   "metadata": {},
   "outputs": [
    {
     "data": {
      "text/html": [
       "<div>\n",
       "<style scoped>\n",
       "    .dataframe tbody tr th:only-of-type {\n",
       "        vertical-align: middle;\n",
       "    }\n",
       "\n",
       "    .dataframe tbody tr th {\n",
       "        vertical-align: top;\n",
       "    }\n",
       "\n",
       "    .dataframe thead th {\n",
       "        text-align: right;\n",
       "    }\n",
       "</style>\n",
       "<table border=\"1\" class=\"dataframe\">\n",
       "  <thead>\n",
       "    <tr style=\"text-align: right;\">\n",
       "      <th></th>\n",
       "      <th>country</th>\n",
       "      <th>High Quality Articles Per Million Population</th>\n",
       "    </tr>\n",
       "  </thead>\n",
       "  <tbody>\n",
       "    <tr>\n",
       "      <th>0</th>\n",
       "      <td>Spain</td>\n",
       "      <td>18</td>\n",
       "    </tr>\n",
       "    <tr>\n",
       "      <th>1</th>\n",
       "      <td>Indonesia</td>\n",
       "      <td>15</td>\n",
       "    </tr>\n",
       "    <tr>\n",
       "      <th>2</th>\n",
       "      <td>Korea, South</td>\n",
       "      <td>10</td>\n",
       "    </tr>\n",
       "    <tr>\n",
       "      <th>3</th>\n",
       "      <td>Russia</td>\n",
       "      <td>9</td>\n",
       "    </tr>\n",
       "    <tr>\n",
       "      <th>4</th>\n",
       "      <td>Ukraine</td>\n",
       "      <td>8</td>\n",
       "    </tr>\n",
       "  </tbody>\n",
       "</table>\n",
       "</div>"
      ],
      "text/plain": [
       "        country  High Quality Articles Per Million Population\n",
       "0         Spain                                            18\n",
       "1     Indonesia                                            15\n",
       "2  Korea, South                                            10\n",
       "3        Russia                                             9\n",
       "4       Ukraine                                             8"
      ]
     },
     "execution_count": 13,
     "metadata": {},
     "output_type": "execute_result"
    }
   ],
   "source": [
    "# article quality rated as FA by country \n",
    "\n",
    "#fa_articles_per_country =merged_df2[merged_df2['article_quality'] == 'FA']['country'].value_counts().reset_index()\n",
    "fa_articles_per_country = merged_df2[merged_df2['article_quality'].isin(['FA', 'GA'])]['country'].value_counts().reset_index()\n",
    "\n",
    "fa_articles_per_country.columns = ['country', 'High Quality Articles Per Million Population']\n",
    "\n",
    "fa_articles_per_country = fa_articles_per_country.reset_index(drop=True)\n",
    "\n",
    "fa_articles_per_country.head()"
   ]
  },
  {
   "cell_type": "markdown",
   "metadata": {},
   "source": [
    "#### Total-high-quality-articles-per-capita for region"
   ]
  },
  {
   "cell_type": "code",
   "execution_count": 14,
   "metadata": {},
   "outputs": [
    {
     "data": {
      "text/html": [
       "<div>\n",
       "<style scoped>\n",
       "    .dataframe tbody tr th:only-of-type {\n",
       "        vertical-align: middle;\n",
       "    }\n",
       "\n",
       "    .dataframe tbody tr th {\n",
       "        vertical-align: top;\n",
       "    }\n",
       "\n",
       "    .dataframe thead th {\n",
       "        text-align: right;\n",
       "    }\n",
       "</style>\n",
       "<table border=\"1\" class=\"dataframe\">\n",
       "  <thead>\n",
       "    <tr style=\"text-align: right;\">\n",
       "      <th></th>\n",
       "      <th>region</th>\n",
       "      <th>High Quality Articles Per Million Population</th>\n",
       "    </tr>\n",
       "  </thead>\n",
       "  <tbody>\n",
       "    <tr>\n",
       "      <th>0</th>\n",
       "      <td>SOUTHERN EUROPE</td>\n",
       "      <td>53</td>\n",
       "    </tr>\n",
       "    <tr>\n",
       "      <th>1</th>\n",
       "      <td>EASTERN EUROPE</td>\n",
       "      <td>38</td>\n",
       "    </tr>\n",
       "    <tr>\n",
       "      <th>2</th>\n",
       "      <td>WESTERN ASIA</td>\n",
       "      <td>27</td>\n",
       "    </tr>\n",
       "    <tr>\n",
       "      <th>3</th>\n",
       "      <td>SOUTHEAST ASIA</td>\n",
       "      <td>25</td>\n",
       "    </tr>\n",
       "    <tr>\n",
       "      <th>4</th>\n",
       "      <td>WESTERN EUROPE</td>\n",
       "      <td>21</td>\n",
       "    </tr>\n",
       "  </tbody>\n",
       "</table>\n",
       "</div>"
      ],
      "text/plain": [
       "            region  High Quality Articles Per Million Population\n",
       "0  SOUTHERN EUROPE                                            53\n",
       "1   EASTERN EUROPE                                            38\n",
       "2     WESTERN ASIA                                            27\n",
       "3   SOUTHEAST ASIA                                            25\n",
       "4   WESTERN EUROPE                                            21"
      ]
     },
     "execution_count": 14,
     "metadata": {},
     "output_type": "execute_result"
    }
   ],
   "source": [
    "# article quality rated as FA by region\n",
    "\n",
    "fa_articles_per_region = merged_df2[merged_df2['article_quality'].isin(['FA', 'GA'])]['region'].value_counts().reset_index()\n",
    "\n",
    "fa_articles_per_region.columns = ['region', 'High Quality Articles Per Million Population']\n",
    "\n",
    "fa_articles_per_region = fa_articles_per_region.reset_index(drop=True)\n",
    "\n",
    "fa_articles_per_region.head()"
   ]
  },
  {
   "cell_type": "markdown",
   "metadata": {},
   "source": [
    "## Step 5: Results"
   ]
  },
  {
   "cell_type": "markdown",
   "metadata": {},
   "source": [
    "### Top 10 countries by coverage: The 10 countries with the highest total articles per capita (in descending order)"
   ]
  },
  {
   "cell_type": "code",
   "execution_count": 15,
   "metadata": {},
   "outputs": [
    {
     "data": {
      "text/html": [
       "<div>\n",
       "<style scoped>\n",
       "    .dataframe tbody tr th:only-of-type {\n",
       "        vertical-align: middle;\n",
       "    }\n",
       "\n",
       "    .dataframe tbody tr th {\n",
       "        vertical-align: top;\n",
       "    }\n",
       "\n",
       "    .dataframe thead th {\n",
       "        text-align: right;\n",
       "    }\n",
       "</style>\n",
       "<table border=\"1\" class=\"dataframe\">\n",
       "  <thead>\n",
       "    <tr style=\"text-align: right;\">\n",
       "      <th></th>\n",
       "      <th>country</th>\n",
       "      <th>Articles Per Capita Per Million Population</th>\n",
       "    </tr>\n",
       "  </thead>\n",
       "  <tbody>\n",
       "    <tr>\n",
       "      <th>82</th>\n",
       "      <td>Antigua and Barbuda</td>\n",
       "      <td>330.000000</td>\n",
       "    </tr>\n",
       "    <tr>\n",
       "      <th>129</th>\n",
       "      <td>Federated States of Micronesia</td>\n",
       "      <td>140.000000</td>\n",
       "    </tr>\n",
       "    <tr>\n",
       "      <th>131</th>\n",
       "      <td>Marshall Islands</td>\n",
       "      <td>130.000000</td>\n",
       "    </tr>\n",
       "    <tr>\n",
       "      <th>138</th>\n",
       "      <td>Tonga</td>\n",
       "      <td>100.000000</td>\n",
       "    </tr>\n",
       "    <tr>\n",
       "      <th>101</th>\n",
       "      <td>Barbados</td>\n",
       "      <td>83.333333</td>\n",
       "    </tr>\n",
       "    <tr>\n",
       "      <th>72</th>\n",
       "      <td>Montenegro</td>\n",
       "      <td>60.000000</td>\n",
       "    </tr>\n",
       "    <tr>\n",
       "      <th>148</th>\n",
       "      <td>Seychelles</td>\n",
       "      <td>60.000000</td>\n",
       "    </tr>\n",
       "    <tr>\n",
       "      <th>81</th>\n",
       "      <td>Maldives</td>\n",
       "      <td>55.000000</td>\n",
       "    </tr>\n",
       "    <tr>\n",
       "      <th>62</th>\n",
       "      <td>Bhutan</td>\n",
       "      <td>55.000000</td>\n",
       "    </tr>\n",
       "    <tr>\n",
       "      <th>145</th>\n",
       "      <td>Samoa</td>\n",
       "      <td>40.000000</td>\n",
       "    </tr>\n",
       "  </tbody>\n",
       "</table>\n",
       "</div>"
      ],
      "text/plain": [
       "                            country  \\\n",
       "82              Antigua and Barbuda   \n",
       "129  Federated States of Micronesia   \n",
       "131                Marshall Islands   \n",
       "138                           Tonga   \n",
       "101                        Barbados   \n",
       "72                       Montenegro   \n",
       "148                      Seychelles   \n",
       "81                         Maldives   \n",
       "62                           Bhutan   \n",
       "145                           Samoa   \n",
       "\n",
       "     Articles Per Capita Per Million Population  \n",
       "82                                   330.000000  \n",
       "129                                  140.000000  \n",
       "131                                  130.000000  \n",
       "138                                  100.000000  \n",
       "101                                   83.333333  \n",
       "72                                    60.000000  \n",
       "148                                   60.000000  \n",
       "81                                    55.000000  \n",
       "62                                    55.000000  \n",
       "145                                   40.000000  "
      ]
     },
     "execution_count": 15,
     "metadata": {},
     "output_type": "execute_result"
    }
   ],
   "source": [
    "top_10_countries_by_coverage = articles_per_country_per_capita_df.sort_values(by='Articles Per Capita Per Million Population', ascending=False).head(10)\n",
    "top_10_countries_by_coverage"
   ]
  },
  {
   "cell_type": "markdown",
   "metadata": {},
   "source": [
    "### Bottom 10 countries by coverage: The 10 countries with the lowest total articles per capita (in ascending order) ."
   ]
  },
  {
   "cell_type": "code",
   "execution_count": 16,
   "metadata": {},
   "outputs": [
    {
     "data": {
      "text/html": [
       "<div>\n",
       "<style scoped>\n",
       "    .dataframe tbody tr th:only-of-type {\n",
       "        vertical-align: middle;\n",
       "    }\n",
       "\n",
       "    .dataframe tbody tr th {\n",
       "        vertical-align: top;\n",
       "    }\n",
       "\n",
       "    .dataframe thead th {\n",
       "        text-align: right;\n",
       "    }\n",
       "</style>\n",
       "<table border=\"1\" class=\"dataframe\">\n",
       "  <thead>\n",
       "    <tr style=\"text-align: right;\">\n",
       "      <th></th>\n",
       "      <th>country</th>\n",
       "      <th>Articles Per Capita Per Million Population</th>\n",
       "    </tr>\n",
       "  </thead>\n",
       "  <tbody>\n",
       "    <tr>\n",
       "      <th>168</th>\n",
       "      <td>Tuvalu</td>\n",
       "      <td>0.000000</td>\n",
       "    </tr>\n",
       "    <tr>\n",
       "      <th>139</th>\n",
       "      <td>Monaco</td>\n",
       "      <td>0.000000</td>\n",
       "    </tr>\n",
       "    <tr>\n",
       "      <th>118</th>\n",
       "      <td>China</td>\n",
       "      <td>0.011337</td>\n",
       "    </tr>\n",
       "    <tr>\n",
       "      <th>2</th>\n",
       "      <td>India</td>\n",
       "      <td>0.105698</td>\n",
       "    </tr>\n",
       "    <tr>\n",
       "      <th>155</th>\n",
       "      <td>Ghana</td>\n",
       "      <td>0.117302</td>\n",
       "    </tr>\n",
       "    <tr>\n",
       "      <th>153</th>\n",
       "      <td>Saudi Arabia</td>\n",
       "      <td>0.135501</td>\n",
       "    </tr>\n",
       "    <tr>\n",
       "      <th>162</th>\n",
       "      <td>Zambia</td>\n",
       "      <td>0.148515</td>\n",
       "    </tr>\n",
       "    <tr>\n",
       "      <th>166</th>\n",
       "      <td>Norway</td>\n",
       "      <td>0.181818</td>\n",
       "    </tr>\n",
       "    <tr>\n",
       "      <th>163</th>\n",
       "      <td>Israel</td>\n",
       "      <td>0.204082</td>\n",
       "    </tr>\n",
       "    <tr>\n",
       "      <th>85</th>\n",
       "      <td>Egypt</td>\n",
       "      <td>0.304183</td>\n",
       "    </tr>\n",
       "  </tbody>\n",
       "</table>\n",
       "</div>"
      ],
      "text/plain": [
       "          country  Articles Per Capita Per Million Population\n",
       "168        Tuvalu                                    0.000000\n",
       "139        Monaco                                    0.000000\n",
       "118         China                                    0.011337\n",
       "2           India                                    0.105698\n",
       "155         Ghana                                    0.117302\n",
       "153  Saudi Arabia                                    0.135501\n",
       "162        Zambia                                    0.148515\n",
       "166        Norway                                    0.181818\n",
       "163        Israel                                    0.204082\n",
       "85          Egypt                                    0.304183"
      ]
     },
     "execution_count": 16,
     "metadata": {},
     "output_type": "execute_result"
    }
   ],
   "source": [
    "bottom_10_countries_by_coverage = articles_per_country_per_capita_df.sort_values(by='Articles Per Capita Per Million Population', ascending=True).head(10)\n",
    "bottom_10_countries_by_coverage"
   ]
  },
  {
   "cell_type": "markdown",
   "metadata": {},
   "source": [
    "### Top 10 countries by high quality: The 10 countries with the highest high quality articles per capita (in descending order) ."
   ]
  },
  {
   "cell_type": "code",
   "execution_count": 17,
   "metadata": {},
   "outputs": [
    {
     "data": {
      "text/html": [
       "<div>\n",
       "<style scoped>\n",
       "    .dataframe tbody tr th:only-of-type {\n",
       "        vertical-align: middle;\n",
       "    }\n",
       "\n",
       "    .dataframe tbody tr th {\n",
       "        vertical-align: top;\n",
       "    }\n",
       "\n",
       "    .dataframe thead th {\n",
       "        text-align: right;\n",
       "    }\n",
       "</style>\n",
       "<table border=\"1\" class=\"dataframe\">\n",
       "  <thead>\n",
       "    <tr style=\"text-align: right;\">\n",
       "      <th></th>\n",
       "      <th>country</th>\n",
       "      <th>High Quality Articles Per Million Population</th>\n",
       "    </tr>\n",
       "  </thead>\n",
       "  <tbody>\n",
       "    <tr>\n",
       "      <th>0</th>\n",
       "      <td>Spain</td>\n",
       "      <td>18</td>\n",
       "    </tr>\n",
       "    <tr>\n",
       "      <th>1</th>\n",
       "      <td>Indonesia</td>\n",
       "      <td>15</td>\n",
       "    </tr>\n",
       "    <tr>\n",
       "      <th>2</th>\n",
       "      <td>Korea, South</td>\n",
       "      <td>10</td>\n",
       "    </tr>\n",
       "    <tr>\n",
       "      <th>3</th>\n",
       "      <td>Russia</td>\n",
       "      <td>9</td>\n",
       "    </tr>\n",
       "    <tr>\n",
       "      <th>4</th>\n",
       "      <td>Ukraine</td>\n",
       "      <td>8</td>\n",
       "    </tr>\n",
       "    <tr>\n",
       "      <th>5</th>\n",
       "      <td>South Africa</td>\n",
       "      <td>8</td>\n",
       "    </tr>\n",
       "    <tr>\n",
       "      <th>8</th>\n",
       "      <td>Poland</td>\n",
       "      <td>7</td>\n",
       "    </tr>\n",
       "    <tr>\n",
       "      <th>9</th>\n",
       "      <td>Switzerland</td>\n",
       "      <td>7</td>\n",
       "    </tr>\n",
       "    <tr>\n",
       "      <th>7</th>\n",
       "      <td>Iraq</td>\n",
       "      <td>7</td>\n",
       "    </tr>\n",
       "    <tr>\n",
       "      <th>6</th>\n",
       "      <td>Albania</td>\n",
       "      <td>7</td>\n",
       "    </tr>\n",
       "  </tbody>\n",
       "</table>\n",
       "</div>"
      ],
      "text/plain": [
       "        country  High Quality Articles Per Million Population\n",
       "0         Spain                                            18\n",
       "1     Indonesia                                            15\n",
       "2  Korea, South                                            10\n",
       "3        Russia                                             9\n",
       "4       Ukraine                                             8\n",
       "5  South Africa                                             8\n",
       "8        Poland                                             7\n",
       "9   Switzerland                                             7\n",
       "7          Iraq                                             7\n",
       "6       Albania                                             7"
      ]
     },
     "execution_count": 17,
     "metadata": {},
     "output_type": "execute_result"
    }
   ],
   "source": [
    "top_10_countries_by_quality = fa_articles_per_country.sort_values(by='High Quality Articles Per Million Population', ascending=False).head(10)\n",
    "top_10_countries_by_quality"
   ]
  },
  {
   "cell_type": "markdown",
   "metadata": {},
   "source": [
    "### Bottom 10 countries by high quality: The 10 countries with the lowest high quality articles per capita (in ascending order)."
   ]
  },
  {
   "cell_type": "code",
   "execution_count": 22,
   "metadata": {},
   "outputs": [
    {
     "data": {
      "text/html": [
       "<div>\n",
       "<style scoped>\n",
       "    .dataframe tbody tr th:only-of-type {\n",
       "        vertical-align: middle;\n",
       "    }\n",
       "\n",
       "    .dataframe tbody tr th {\n",
       "        vertical-align: top;\n",
       "    }\n",
       "\n",
       "    .dataframe thead th {\n",
       "        text-align: right;\n",
       "    }\n",
       "</style>\n",
       "<table border=\"1\" class=\"dataframe\">\n",
       "  <thead>\n",
       "    <tr style=\"text-align: right;\">\n",
       "      <th></th>\n",
       "      <th>country</th>\n",
       "      <th>High Quality Articles Per Million Population</th>\n",
       "    </tr>\n",
       "  </thead>\n",
       "  <tbody>\n",
       "    <tr>\n",
       "      <th>168</th>\n",
       "      <td>Zimbabwe</td>\n",
       "      <td>0</td>\n",
       "    </tr>\n",
       "    <tr>\n",
       "      <th>106</th>\n",
       "      <td>Namibia</td>\n",
       "      <td>0</td>\n",
       "    </tr>\n",
       "    <tr>\n",
       "      <th>108</th>\n",
       "      <td>Nicaragua</td>\n",
       "      <td>0</td>\n",
       "    </tr>\n",
       "    <tr>\n",
       "      <th>51</th>\n",
       "      <td>Estonia</td>\n",
       "      <td>0</td>\n",
       "    </tr>\n",
       "    <tr>\n",
       "      <th>50</th>\n",
       "      <td>Eritrea</td>\n",
       "      <td>0</td>\n",
       "    </tr>\n",
       "    <tr>\n",
       "      <th>49</th>\n",
       "      <td>Equatorial Guinea</td>\n",
       "      <td>0</td>\n",
       "    </tr>\n",
       "    <tr>\n",
       "      <th>110</th>\n",
       "      <td>Niger</td>\n",
       "      <td>0</td>\n",
       "    </tr>\n",
       "    <tr>\n",
       "      <th>105</th>\n",
       "      <td>Mozambique</td>\n",
       "      <td>0</td>\n",
       "    </tr>\n",
       "    <tr>\n",
       "      <th>111</th>\n",
       "      <td>Norway</td>\n",
       "      <td>0</td>\n",
       "    </tr>\n",
       "    <tr>\n",
       "      <th>45</th>\n",
       "      <td>Timor Leste</td>\n",
       "      <td>0</td>\n",
       "    </tr>\n",
       "  </tbody>\n",
       "</table>\n",
       "</div>"
      ],
      "text/plain": [
       "               country  High Quality Articles Per Million Population\n",
       "168           Zimbabwe                                             0\n",
       "106            Namibia                                             0\n",
       "108          Nicaragua                                             0\n",
       "51             Estonia                                             0\n",
       "50             Eritrea                                             0\n",
       "49   Equatorial Guinea                                             0\n",
       "110              Niger                                             0\n",
       "105         Mozambique                                             0\n",
       "111             Norway                                             0\n",
       "45         Timor Leste                                             0"
      ]
     },
     "execution_count": 22,
     "metadata": {},
     "output_type": "execute_result"
    }
   ],
   "source": [
    "all_countries = merged_df2['country'].unique()\n",
    "all_countries_df = pd.DataFrame(all_countries, columns=['country'])\n",
    "complete_articles_per_country = pd.merge(all_countries_df, fa_articles_per_country, on='country', how='left').fillna(0)\n",
    "\n",
    "complete_articles_per_country['High Quality Articles Per Million Population'] = complete_articles_per_country['High Quality Articles Per Million Population'].astype(int)\n",
    "\n",
    "# Reset the index\n",
    "complete_articles_per_country = complete_articles_per_country.reset_index(drop=True)\n",
    "\n",
    "complete_articles_per_country.head()\n",
    "\n",
    "# sort complete_articles_per_country by High Quality Articles Per Million Population to find bottom 10\n",
    "bottom_10_countries_by_quality = complete_articles_per_country.sort_values(by='High Quality Articles Per Million Population', ascending=True).head(10)\n",
    "bottom_10_countries_by_quality"
   ]
  },
  {
   "cell_type": "markdown",
   "metadata": {},
   "source": [
    "### Geographic regions by total coverage: A rank ordered list of geographic regions (in descending order) by total articles per capita."
   ]
  },
  {
   "cell_type": "code",
   "execution_count": 23,
   "metadata": {},
   "outputs": [
    {
     "data": {
      "text/html": [
       "<div>\n",
       "<style scoped>\n",
       "    .dataframe tbody tr th:only-of-type {\n",
       "        vertical-align: middle;\n",
       "    }\n",
       "\n",
       "    .dataframe tbody tr th {\n",
       "        vertical-align: top;\n",
       "    }\n",
       "\n",
       "    .dataframe thead th {\n",
       "        text-align: right;\n",
       "    }\n",
       "</style>\n",
       "<table border=\"1\" class=\"dataframe\">\n",
       "  <thead>\n",
       "    <tr style=\"text-align: right;\">\n",
       "      <th></th>\n",
       "      <th>region</th>\n",
       "      <th>Articles Per Capita Per Million Population</th>\n",
       "    </tr>\n",
       "  </thead>\n",
       "  <tbody>\n",
       "    <tr>\n",
       "      <th>0</th>\n",
       "      <td>SOUTHERN EUROPE</td>\n",
       "      <td>5.243421</td>\n",
       "    </tr>\n",
       "    <tr>\n",
       "      <th>11</th>\n",
       "      <td>CARIBBEAN</td>\n",
       "      <td>4.977273</td>\n",
       "    </tr>\n",
       "    <tr>\n",
       "      <th>7</th>\n",
       "      <td>WESTERN EUROPE</td>\n",
       "      <td>2.502513</td>\n",
       "    </tr>\n",
       "    <tr>\n",
       "      <th>1</th>\n",
       "      <td>EASTERN EUROPE</td>\n",
       "      <td>2.487719</td>\n",
       "    </tr>\n",
       "    <tr>\n",
       "      <th>4</th>\n",
       "      <td>WESTERN ASIA</td>\n",
       "      <td>2.040134</td>\n",
       "    </tr>\n",
       "    <tr>\n",
       "      <th>12</th>\n",
       "      <td>NORTHERN EUROPE</td>\n",
       "      <td>1.768519</td>\n",
       "    </tr>\n",
       "    <tr>\n",
       "      <th>15</th>\n",
       "      <td>SOUTHERN AFRICA</td>\n",
       "      <td>1.757143</td>\n",
       "    </tr>\n",
       "    <tr>\n",
       "      <th>17</th>\n",
       "      <td>OCEANIA</td>\n",
       "      <td>1.600000</td>\n",
       "    </tr>\n",
       "    <tr>\n",
       "      <th>3</th>\n",
       "      <td>EASTERN AFRICA</td>\n",
       "      <td>1.376812</td>\n",
       "    </tr>\n",
       "    <tr>\n",
       "      <th>5</th>\n",
       "      <td>SOUTH AMERICA</td>\n",
       "      <td>1.335681</td>\n",
       "    </tr>\n",
       "    <tr>\n",
       "      <th>16</th>\n",
       "      <td>CENTRAL ASIA</td>\n",
       "      <td>1.325000</td>\n",
       "    </tr>\n",
       "    <tr>\n",
       "      <th>9</th>\n",
       "      <td>NORTHERN AFRICA</td>\n",
       "      <td>1.179688</td>\n",
       "    </tr>\n",
       "    <tr>\n",
       "      <th>6</th>\n",
       "      <td>WESTERN AFRICA</td>\n",
       "      <td>1.165158</td>\n",
       "    </tr>\n",
       "    <tr>\n",
       "      <th>10</th>\n",
       "      <td>MIDDLE AFRICA</td>\n",
       "      <td>1.143564</td>\n",
       "    </tr>\n",
       "    <tr>\n",
       "      <th>13</th>\n",
       "      <td>CENTRAL AMERICA</td>\n",
       "      <td>1.032967</td>\n",
       "    </tr>\n",
       "    <tr>\n",
       "      <th>8</th>\n",
       "      <td>SOUTHEAST ASIA</td>\n",
       "      <td>0.580645</td>\n",
       "    </tr>\n",
       "    <tr>\n",
       "      <th>2</th>\n",
       "      <td>SOUTH ASIA</td>\n",
       "      <td>0.330212</td>\n",
       "    </tr>\n",
       "    <tr>\n",
       "      <th>14</th>\n",
       "      <td>EAST ASIA</td>\n",
       "      <td>0.092233</td>\n",
       "    </tr>\n",
       "  </tbody>\n",
       "</table>\n",
       "</div>"
      ],
      "text/plain": [
       "             region  Articles Per Capita Per Million Population\n",
       "0   SOUTHERN EUROPE                                    5.243421\n",
       "11        CARIBBEAN                                    4.977273\n",
       "7    WESTERN EUROPE                                    2.502513\n",
       "1    EASTERN EUROPE                                    2.487719\n",
       "4      WESTERN ASIA                                    2.040134\n",
       "12  NORTHERN EUROPE                                    1.768519\n",
       "15  SOUTHERN AFRICA                                    1.757143\n",
       "17          OCEANIA                                    1.600000\n",
       "3    EASTERN AFRICA                                    1.376812\n",
       "5     SOUTH AMERICA                                    1.335681\n",
       "16     CENTRAL ASIA                                    1.325000\n",
       "9   NORTHERN AFRICA                                    1.179688\n",
       "6    WESTERN AFRICA                                    1.165158\n",
       "10    MIDDLE AFRICA                                    1.143564\n",
       "13  CENTRAL AMERICA                                    1.032967\n",
       "8    SOUTHEAST ASIA                                    0.580645\n",
       "2        SOUTH ASIA                                    0.330212\n",
       "14        EAST ASIA                                    0.092233"
      ]
     },
     "execution_count": 23,
     "metadata": {},
     "output_type": "execute_result"
    }
   ],
   "source": [
    "articles_per_region_per_capita_df.sort_values(by='Articles Per Capita Per Million Population', ascending=False)\n"
   ]
  },
  {
   "cell_type": "markdown",
   "metadata": {},
   "source": [
    "### Geographic regions by high quality coverage: Rank ordered list of geographic regions (in descending order) by high quality articles per capita."
   ]
  },
  {
   "cell_type": "code",
   "execution_count": 24,
   "metadata": {},
   "outputs": [
    {
     "data": {
      "text/html": [
       "<div>\n",
       "<style scoped>\n",
       "    .dataframe tbody tr th:only-of-type {\n",
       "        vertical-align: middle;\n",
       "    }\n",
       "\n",
       "    .dataframe tbody tr th {\n",
       "        vertical-align: top;\n",
       "    }\n",
       "\n",
       "    .dataframe thead th {\n",
       "        text-align: right;\n",
       "    }\n",
       "</style>\n",
       "<table border=\"1\" class=\"dataframe\">\n",
       "  <thead>\n",
       "    <tr style=\"text-align: right;\">\n",
       "      <th></th>\n",
       "      <th>region</th>\n",
       "      <th>High Quality Articles Per Million Population</th>\n",
       "    </tr>\n",
       "  </thead>\n",
       "  <tbody>\n",
       "    <tr>\n",
       "      <th>0</th>\n",
       "      <td>SOUTHERN EUROPE</td>\n",
       "      <td>53</td>\n",
       "    </tr>\n",
       "    <tr>\n",
       "      <th>1</th>\n",
       "      <td>EASTERN EUROPE</td>\n",
       "      <td>38</td>\n",
       "    </tr>\n",
       "    <tr>\n",
       "      <th>2</th>\n",
       "      <td>WESTERN ASIA</td>\n",
       "      <td>27</td>\n",
       "    </tr>\n",
       "    <tr>\n",
       "      <th>3</th>\n",
       "      <td>SOUTHEAST ASIA</td>\n",
       "      <td>25</td>\n",
       "    </tr>\n",
       "    <tr>\n",
       "      <th>4</th>\n",
       "      <td>WESTERN EUROPE</td>\n",
       "      <td>21</td>\n",
       "    </tr>\n",
       "    <tr>\n",
       "      <th>5</th>\n",
       "      <td>SOUTH ASIA</td>\n",
       "      <td>21</td>\n",
       "    </tr>\n",
       "    <tr>\n",
       "      <th>6</th>\n",
       "      <td>SOUTH AMERICA</td>\n",
       "      <td>19</td>\n",
       "    </tr>\n",
       "    <tr>\n",
       "      <th>7</th>\n",
       "      <td>NORTHERN AFRICA</td>\n",
       "      <td>17</td>\n",
       "    </tr>\n",
       "    <tr>\n",
       "      <th>8</th>\n",
       "      <td>EASTERN AFRICA</td>\n",
       "      <td>17</td>\n",
       "    </tr>\n",
       "    <tr>\n",
       "      <th>9</th>\n",
       "      <td>WESTERN AFRICA</td>\n",
       "      <td>13</td>\n",
       "    </tr>\n",
       "    <tr>\n",
       "      <th>10</th>\n",
       "      <td>CENTRAL AMERICA</td>\n",
       "      <td>10</td>\n",
       "    </tr>\n",
       "    <tr>\n",
       "      <th>11</th>\n",
       "      <td>CARIBBEAN</td>\n",
       "      <td>9</td>\n",
       "    </tr>\n",
       "    <tr>\n",
       "      <th>12</th>\n",
       "      <td>NORTHERN EUROPE</td>\n",
       "      <td>9</td>\n",
       "    </tr>\n",
       "    <tr>\n",
       "      <th>13</th>\n",
       "      <td>MIDDLE AFRICA</td>\n",
       "      <td>8</td>\n",
       "    </tr>\n",
       "    <tr>\n",
       "      <th>14</th>\n",
       "      <td>SOUTHERN AFRICA</td>\n",
       "      <td>8</td>\n",
       "    </tr>\n",
       "    <tr>\n",
       "      <th>15</th>\n",
       "      <td>CENTRAL ASIA</td>\n",
       "      <td>5</td>\n",
       "    </tr>\n",
       "    <tr>\n",
       "      <th>16</th>\n",
       "      <td>EAST ASIA</td>\n",
       "      <td>3</td>\n",
       "    </tr>\n",
       "    <tr>\n",
       "      <th>17</th>\n",
       "      <td>OCEANIA</td>\n",
       "      <td>1</td>\n",
       "    </tr>\n",
       "  </tbody>\n",
       "</table>\n",
       "</div>"
      ],
      "text/plain": [
       "             region  High Quality Articles Per Million Population\n",
       "0   SOUTHERN EUROPE                                            53\n",
       "1    EASTERN EUROPE                                            38\n",
       "2      WESTERN ASIA                                            27\n",
       "3    SOUTHEAST ASIA                                            25\n",
       "4    WESTERN EUROPE                                            21\n",
       "5        SOUTH ASIA                                            21\n",
       "6     SOUTH AMERICA                                            19\n",
       "7   NORTHERN AFRICA                                            17\n",
       "8    EASTERN AFRICA                                            17\n",
       "9    WESTERN AFRICA                                            13\n",
       "10  CENTRAL AMERICA                                            10\n",
       "11        CARIBBEAN                                             9\n",
       "12  NORTHERN EUROPE                                             9\n",
       "13    MIDDLE AFRICA                                             8\n",
       "14  SOUTHERN AFRICA                                             8\n",
       "15     CENTRAL ASIA                                             5\n",
       "16        EAST ASIA                                             3\n",
       "17          OCEANIA                                             1"
      ]
     },
     "execution_count": 24,
     "metadata": {},
     "output_type": "execute_result"
    }
   ],
   "source": [
    "fa_articles_per_region.sort_values(by='High Quality Articles Per Million Population', ascending=False)"
   ]
  }
 ],
 "metadata": {
  "kernelspec": {
   "display_name": "Python 3",
   "language": "python",
   "name": "python3"
  },
  "language_info": {
   "codemirror_mode": {
    "name": "ipython",
    "version": 3
   },
   "file_extension": ".py",
   "mimetype": "text/x-python",
   "name": "python",
   "nbconvert_exporter": "python",
   "pygments_lexer": "ipython3",
   "version": "3.9.6"
  },
  "orig_nbformat": 4
 },
 "nbformat": 4,
 "nbformat_minor": 2
}
